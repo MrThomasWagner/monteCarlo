{
 "metadata": {
  "name": ""
 },
 "nbformat": 3,
 "nbformat_minor": 0,
 "worksheets": [
  {
   "cells": [
    {
     "cell_type": "code",
     "collapsed": false,
     "input": [
      "import random\n",
      "import matplotlib.pyplot as plt\n",
      "import math\n",
      "%matplotlib inline"
     ],
     "language": "python",
     "metadata": {},
     "outputs": [],
     "prompt_number": 1
    },
    {
     "cell_type": "code",
     "collapsed": false,
     "input": [
      "def get_data(dataFile):\n",
      "    data_IN = open(dataFile)\n",
      "    return [line.strip() for line in data_IN]"
     ],
     "language": "python",
     "metadata": {},
     "outputs": [],
     "prompt_number": 2
    },
    {
     "cell_type": "code",
     "collapsed": false,
     "input": [
      "def approx_monte_carlo(trials, data, numSites):\n",
      "    results = []\n",
      "    for y in range(trials):\n",
      "        total = sum([int(random.choice(data)) for x in range(numSites)])\n",
      "        results.append(total)\n",
      "        \n",
      "    return results"
     ],
     "language": "python",
     "metadata": {},
     "outputs": [],
     "prompt_number": 3
    },
    {
     "cell_type": "code",
     "collapsed": false,
     "input": [
      "def main(fileIn, numSamples, trials=2000, buckets=50):\n",
      "    approx = approx_monte_carlo(trials, get_data(fileIn), numSamples)\n",
      "    plt.hist(approx, buckets)\n",
      "    plt.title(fileIn)\n",
      "    plt.show()"
     ],
     "language": "python",
     "metadata": {},
     "outputs": [],
     "prompt_number": 4
    },
    {
     "cell_type": "code",
     "collapsed": false,
     "input": [
      "CURRENT_NUM_SAMPLES = 1000\n",
      "NUM_NEW_SAMPLES = 500 # got this from Nick\n",
      "TOTAL_NEW_SAMPLES = NUM_NEW_SAMPLES + CURRENT_NUM_SAMPLES"
     ],
     "language": "python",
     "metadata": {},
     "outputs": [],
     "prompt_number": 5
    },
    {
     "cell_type": "code",
     "collapsed": false,
     "input": [
      "main('set1/counts', TOTAL_NEW_SAMPLES, trials=1000)"
     ],
     "language": "python",
     "metadata": {},
     "outputs": [
      {
       "metadata": {},
       "output_type": "display_data",
       "png": "[encoded data removed]",
       "text": [
        "<matplotlib.figure.Figure at 0x102525690>"
       ]
      }
     ],
     "prompt_number": 6
    },
    {
     "cell_type": "code",
     "collapsed": false,
     "input": [
      "main('set2/counts', TOTAL_NEW_SAMPLES, trials=1000)"
     ],
     "language": "python",
     "metadata": {},
     "outputs": [
      {
       "metadata": {},
       "output_type": "display_data",
       "png": "[encoded data removed]",
       "text": [
        "<matplotlib.figure.Figure at 0x108617b10>"
       ]
      }
     ],
     "prompt_number": 7
    },
    {
     "cell_type": "code",
     "collapsed": false,
     "input": [],
     "language": "python",
     "metadata": {},
     "outputs": []
    }
   ],
   "metadata": {}
  }
 ]
}